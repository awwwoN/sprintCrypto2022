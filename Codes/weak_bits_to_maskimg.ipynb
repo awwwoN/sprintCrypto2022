{
 "cells": [
  {
   "cell_type": "code",
   "execution_count": 4,
   "metadata": {},
   "outputs": [
    {
     "name": "stdout",
     "output_type": "stream",
     "text": [
      "1048576 1048576\n"
     ]
    }
   ],
   "source": [
    "from PIL import Image\n",
    "\n",
    "file = Image.open(\"/home/o2181698@campus.univ-orleans.fr/Bureau/SprintCrypto/DataGen/bureau.png\")\n",
    "width, height = file.size\n",
    "\n",
    "number_of_bits = 1\n",
    "\n",
    "r_bits = \"\"\n",
    "b_bits = \"\"\n",
    "g_bits = \"\"\n",
    "\n",
    "for y in range(height):\n",
    "    for x in range(width):\n",
    "        pixel = file.getpixel((x, y))\n",
    "        r_bits += (\"{0:b}\".format(pixel[0]))[-number_of_bits:]\n",
    "        g_bits += (\"{0:b}\".format(pixel[1]))[-number_of_bits:]\n",
    "        b_bits += (\"{0:b}\".format(pixel[2]))[-number_of_bits:]\n",
    "\n",
    "file.close()\n",
    "\n",
    "r_data = []\n",
    "g_data = []\n",
    "b_data = []\n",
    "\n",
    "for i in range(0, len(r_bits), 1):\n",
    "    r_data += [int(r_bits[i], 2) * 255]\n",
    "    g_data += [int(g_bits[i], 2) * 255]\n",
    "    b_data += [int(b_bits[i], 2) * 255]\n",
    "\n",
    "newimg_r = Image.new('L', (width, height), color=255)\n",
    "newimg_g = Image.new('L', (width, height), color=255)\n",
    "newimg_b = Image.new('L', (width, height), color=255)\n",
    "\n",
    "print(len(r_data), width*height)\n",
    "\n",
    "for y in range(height):\n",
    "    for x in range(width):\n",
    "        newimg_r.putpixel((x,y), r_data[(y*width)+x])\n",
    "        newimg_g.putpixel((x,y), g_data[(y*width)+x])\n",
    "        newimg_b.putpixel((x,y), b_data[(y*width)+x])\n",
    "\n",
    "newimg_r.save(\"render_r.png\")\n",
    "newimg_g.save(\"render_g.png\")\n",
    "newimg_b.save(\"render_b.png\")"
   ]
  },
  {
   "cell_type": "code",
   "execution_count": 8,
   "metadata": {},
   "outputs": [],
   "source": [
    "from PIL import Image\n",
    "\n",
    "file = Image.open(\"/home/o2181698@campus.univ-orleans.fr/Bureau/SprintCrypto/DataGen/bureaunuit.png\")\n",
    "mask = Image.open(\"render_r.png\")\n",
    "\n",
    "newimg = Image.new('L', (width, height), color=255)\n",
    "\n",
    "w,h = file.size\n",
    "\n",
    "for y in range(h):\n",
    "    for x in range(w):\n",
    "        original = file.getpixel((x,y))[0]\n",
    "        masked = mask.getpixel((x,y))\n",
    "        value = original ^ masked\n",
    "        newimg.putpixel((x,y), value)\n",
    "\n",
    "newimg.save(\"/home/o2181698@campus.univ-orleans.fr/Bureau/SprintCrypto/DataGen/rendu_mask_r.png\")"
   ]
  }
 ],
 "metadata": {
  "kernelspec": {
   "display_name": "Python 3 (ipykernel)",
   "language": "python",
   "name": "python3"
  },
  "language_info": {
   "codemirror_mode": {
    "name": "ipython",
    "version": 3
   },
   "file_extension": ".py",
   "mimetype": "text/x-python",
   "name": "python",
   "nbconvert_exporter": "python",
   "pygments_lexer": "ipython3",
   "version": "3.10.6"
  },
  "vscode": {
   "interpreter": {
    "hash": "916dbcbb3f70747c44a77c7bcd40155683ae19c65e1c03b4aa3499c5328201f1"
   }
  }
 },
 "nbformat": 4,
 "nbformat_minor": 2
}
